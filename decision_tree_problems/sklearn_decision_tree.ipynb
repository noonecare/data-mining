{
 "cells": [
  {
   "cell_type": "markdown",
   "metadata": {},
   "source": [
    "读取数据，把数据转成 Vector 的数据"
   ]
  },
  {
   "cell_type": "code",
   "execution_count": 63,
   "metadata": {},
   "outputs": [
    {
     "name": "stdout",
     "output_type": "stream",
     "text": [
      "[[0, 0, 0, 0, 0, 0], [1, 0, 1, 0, 0, 0], [1, 0, 0, 0, 0, 0], [0, 0, 1, 0, 0, 0], [2, 0, 0, 0, 0, 0], [0, 1, 0, 0, 1, 1], [1, 1, 0, 1, 1, 1], [1, 1, 0, 0, 1, 0], [1, 1, 1, 1, 1, 0], [0, 2, 2, 0, 2, 1], [2, 2, 2, 2, 2, 0], [2, 0, 0, 2, 2, 1], [0, 1, 0, 1, 0, 0], [2, 1, 1, 1, 0, 0], [1, 1, 0, 0, 1, 1], [2, 0, 0, 2, 2, 0], [0, 0, 1, 1, 1, 0]]\n[1, 1, 1, 1, 1, 1, 1, 1, 0, 0, 0, 0, 0, 0, 0, 0, 0]\n"
     ]
    }
   ],
   "source": [
    "import pandas as pd\n",
    "from sklearn.feature_extraction import DictVectorizer\n",
    "\n",
    "data = pd.read_csv(r\"test_data/watermelon1.csv\")\n",
    "\n",
    "value_dict = {\n",
    "}\n",
    "\n",
    "for column in data.columns:\n",
    "    if column != \"编号\":\n",
    "        distinct_values = data[column].drop_duplicates()\n",
    "        for index, value in enumerate(distinct_values):\n",
    "            value_dict.update({value: index})\n",
    "        \n",
    "t = []\n",
    "features = []\n",
    "for _, item in data.iterrows():\n",
    "    a = item.to_dict()\n",
    "    t.append(1 if a[\"好瓜\"] == \"是\" else 0)\n",
    "    row = []\n",
    "    for column in data.columns:\n",
    "        if column != \"编号\":\n",
    "            row.append(value_dict[a[column]])\n",
    "            \n",
    "    features.append(row[:-1])\n",
    "print(features)\n",
    "print(t)"
   ]
  },
  {
   "cell_type": "markdown",
   "metadata": {},
   "source": [
    ""
   ]
  },
  {
   "cell_type": "markdown",
   "metadata": {},
   "source": [
    "得到  feature 和 target 之后训练模型"
   ]
  },
  {
   "cell_type": "code",
   "execution_count": 64,
   "metadata": {},
   "outputs": [],
   "source": [
    "from sklearn import tree\n",
    "\n",
    "clf = tree.DecisionTreeClassifier(criterion=\"entropy\")\n",
    "clf = clf.fit(features, t)"
   ]
  },
  {
   "cell_type": "code",
   "execution_count": 65,
   "metadata": {},
   "outputs": [],
   "source": [
    "gini_clf = tree.DecisionTreeClassifier(criterion=\"gini\")\n",
    "gini_clf = gini_clf.fit(features, t)"
   ]
  },
  {
   "cell_type": "code",
   "execution_count": 66,
   "metadata": {},
   "outputs": [],
   "source": [
    "logistic_clf = tree.DecisionTreeRegressor(criterion=\"mse\")\n",
    "logistic_clf = logistic_clf.fit(features, t)"
   ]
  },
  {
   "cell_type": "code",
   "execution_count": 68,
   "metadata": {},
   "outputs": [],
   "source": [
    "from sklearn import tree\n",
    "tree.export_graphviz(clf, out_file=\"entroy_decision_tree.dot\", feature_names=data.columns[1:-1], class_names=[\"否\", \"是\"])\n",
    "tree.export_graphviz(gini_clf, out_file=\"gini_decision_tree.dot\", feature_names=data.columns[1:-1], class_names=[\"否\", \"是\"])"
   ]
  }
 ],
 "metadata": {
  "kernelspec": {
   "display_name": "Python 2",
   "language": "python",
   "name": "python2"
  },
  "language_info": {
   "codemirror_mode": {
    "name": "ipython",
    "version": 2.0
   },
   "file_extension": ".py",
   "mimetype": "text/x-python",
   "name": "python",
   "nbconvert_exporter": "python",
   "pygments_lexer": "ipython2",
   "version": "2.7.6"
  }
 },
 "nbformat": 4,
 "nbformat_minor": 0
}