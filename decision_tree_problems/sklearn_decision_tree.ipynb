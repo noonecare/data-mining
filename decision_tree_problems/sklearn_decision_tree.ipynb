{
 "cells": [
  {
   "cell_type": "markdown",
   "metadata": {},
   "source": [
    "读取数据，把数据转成 Vector 的数据"
   ]
  },
  {
   "cell_type": "code",
   "execution_count": 30,
   "metadata": {},
   "outputs": [],
   "source": [
    "import pandas as pd\n",
    "from sklearn.feature_extraction import DictVectorizer\n",
    "\n",
    "data = pd.read_csv(r\"test_data/watermelon1.csv\")\n",
    "vec = DictVectorizer()\n",
    "train_data = []\n",
    "t = []\n",
    "for _, item in data.iterrows():\n",
    "    a = item.to_dict()\n",
    "    t.append(1 if a[\"好瓜\"] == \"是\" else 0)\n",
    "    del a[\"编号\"]\n",
    "    del a[\"好瓜\"]\n",
    "    train_data.append(a)\n",
    "\n",
    "features = vec.fit_transform(train_data).toarray()\n",
    "feature_names = vec.get_feature_names()"
   ]
  },
  {
   "cell_type": "markdown",
   "metadata": {},
   "source": [
    ""
   ]
  },
  {
   "cell_type": "markdown",
   "metadata": {},
   "source": [
    "得到  feature 和 target 之后训练模型"
   ]
  },
  {
   "cell_type": "code",
   "execution_count": 33,
   "metadata": {},
   "outputs": [],
   "source": [
    "from sklearn import tree\n",
    "\n",
    "clf = tree.DecisionTreeClassifier(criterion=\"entropy\")\n",
    "clf = clf.fit(features, t)"
   ]
  },
  {
   "cell_type": "code",
   "execution_count": 34,
   "metadata": {},
   "outputs": [],
   "source": [
    "gini_clf = tree.DecisionTreeClassifier(criterion=\"gini\")\n",
    "gini_clf = gini_clf.fit(features, t)"
   ]
  },
  {
   "cell_type": "code",
   "execution_count": 35,
   "metadata": {},
   "outputs": [],
   "source": [
    "logistic_clf = tree.DecisionTreeRegressor(criterion=\"mse\")\n",
    "logistic_clf = logistic_clf.fit(features, t)"
   ]
  },
  {
   "cell_type": "code",
   "execution_count": 39,
   "metadata": {},
   "outputs": [],
   "source": [
    "from sklearn import tree\n",
    "tree.export_graphviz(clf, out_file=\"entroy_decision_tree.dot\", feature_names=feature_names, class_names=[\"否\", \"是\"])\n",
    "tree.export_graphviz(gini_clf, out_file=\"gini_decision_tree.dot\", feature_names=feature_names, class_names=[\"否\", \"是\"])"
   ]
  }
 ],
 "metadata": {
  "kernelspec": {
   "display_name": "Python 2",
   "language": "python",
   "name": "python2"
  },
  "language_info": {
   "codemirror_mode": {
    "name": "ipython",
    "version": 2.0
   },
   "file_extension": ".py",
   "mimetype": "text/x-python",
   "name": "python",
   "nbconvert_exporter": "python",
   "pygments_lexer": "ipython2",
   "version": "2.7.6"
  }
 },
 "nbformat": 4,
 "nbformat_minor": 0
}